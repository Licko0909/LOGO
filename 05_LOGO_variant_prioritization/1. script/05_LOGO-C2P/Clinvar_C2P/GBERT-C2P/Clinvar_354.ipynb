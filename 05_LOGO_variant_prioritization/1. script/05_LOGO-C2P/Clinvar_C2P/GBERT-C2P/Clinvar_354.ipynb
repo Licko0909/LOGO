{
 "cells": [
  {
   "cell_type": "code",
   "execution_count": 1,
   "metadata": {
    "ExecuteTime": {
     "end_time": "2021-03-02T09:11:49.310178Z",
     "start_time": "2021-03-02T09:11:48.451815Z"
    },
    "collapsed": true
   },
   "outputs": [],
   "source": [
    "import os\n",
    "import h5py\n",
    "import xgboost as xgb\n",
    "import pandas as pd\n",
    "import numpy as np\n",
    "import matplotlib.pylab as plt\n",
    "from sklearn.model_selection import train_test_split\n",
    "from xgboost import XGBClassifier\n",
    "from sklearn.model_selection import GridSearchCV\n",
    "from sklearn.model_selection import StratifiedKFold\n",
    "from sklearn.utils import shuffle\n",
    "from sklearn.metrics import accuracy_score, roc_curve, auc, roc_auc_score\n"
   ]
  },
  {
   "cell_type": "code",
   "execution_count": 2,
   "metadata": {
    "ExecuteTime": {
     "end_time": "2021-03-02T09:11:57.432918Z",
     "start_time": "2021-03-02T09:11:57.412631Z"
    },
    "collapsed": true
   },
   "outputs": [],
   "source": [
    "\n",
    "def get_DMatrix_concat_useevo(VCF_FILE, CHROMATIN_df, CHROMATIN_diff_df, EVO_df):\n",
    "\n",
    "    sub_df_ori, sub_diff_df_ori, sub_evo_df_ori = CHROMATIN_df, CHROMATIN_diff_df, EVO_df\n",
    "    \n",
    "    print('Chromatin feature df shape: ', sub_df_ori.shape)\n",
    "    print('Chromatin feature df shape: ', sub_diff_df_ori.shape)\n",
    "    print('Chromatin evo feature df shape: ', sub_evo_df_ori.shape)\n",
    "\n",
    "\n",
    "    sub_df_ori['label'] = np.where(sub_df_ori.name.str.startswith('1000G'), 0, 1)\n",
    "    sub_diff_df_ori['label'] = np.where(sub_diff_df_ori.name.str.startswith('1000G'), 0, 1)\n",
    "\n",
    "    if len(sub_df_ori[sub_df_ori.isnull().values == True]) != 0:\n",
    "        print('Have NA!')\n",
    "    if len(sub_diff_df_ori[sub_diff_df_ori.isnull().values == True]) != 0:\n",
    "        print('Have NA!')\n",
    "\n",
    "    sub_df = sub_df_ori.iloc[:, 5:]\n",
    "    sub_diff_df = sub_diff_df_ori.iloc[:, 5:]\n",
    "    y = np.asarray(sub_df['label'])\n",
    "    X = np.asarray(sub_df.drop(['label'], axis=1))\n",
    "    X_diff = np.asarray(sub_diff_df.drop(['label'], axis=1))\n",
    "    print(\"X.shape: {}, X_diff.shape: {}, y.shape: {}\".format(X.shape, X_diff.shape, y.shape))\n",
    "\n",
    "    from sklearn.preprocessing import StandardScaler\n",
    "    ss = StandardScaler()\n",
    "    std_X = ss.fit_transform(X)\n",
    "    std_X_diff = ss.fit_transform(X_diff)\n",
    "    print('after standard mean and std is ', np.mean(std_X), np.std(std_X))\n",
    "    print('after standard mean and std is ', np.mean(std_X_diff), np.std(std_X_diff))\n",
    "\n",
    "    sub_evo_df = sub_evo_df_ori.iloc[:, 5:]\n",
    "\n",
    "    std_X_hstack = np.hstack((X, X_diff))\n",
    "    std_X_hstack = np.hstack((std_X_hstack, sub_evo_df))  # 919+919+4\n",
    "    print(std_X_hstack.shape)\n",
    "    DM_Xy = xgb.DMatrix(std_X_hstack, y)\n",
    "\n",
    "    return DM_Xy, std_X, X, y, sub_df_ori, sub_diff_df_ori"
   ]
  },
  {
   "cell_type": "markdown",
   "metadata": {},
   "source": [
    "## 354clinvar——C2P"
   ]
  },
  {
   "cell_type": "code",
   "execution_count": 70,
   "metadata": {
    "ExecuteTime": {
     "end_time": "2021-03-05T09:01:08.616255Z",
     "start_time": "2021-03-05T09:01:08.613327Z"
    },
    "collapsed": true
   },
   "outputs": [],
   "source": [
    "EVO_df_path = '/alldata/LChuang_data/myP/GeneBert/BGI-Gene_new/examples/CADD/baiducloud_clinvar/clinvar_20201003/Clinvar_nc_snv_pathogenic/GBERT-C2P/Clinvar_nc_snv_pathogenic_354.vcf_getevo_output/infile.vcf.evoall.wholerow'\n",
    "\n",
    "VCF_PATH = '/alldata/LChuang_data/myP/GeneBert/BGI-Gene_new/examples/CADD/baiducloud_clinvar/clinvar_20201003/Clinvar_nc_snv_pathogenic/GBERT-C2P/Clinvar_nc_snv_pathogenic_354.vcf'\n",
    "\n",
    "CHROM_PATH = '/alldata/LChuang_data/myP/GeneBert/BGI-Gene_new/examples/CADD/baiducloud_clinvar/clinvar_20201003/Clinvar_nc_snv_pathogenic/GBERT-funsig/'\n",
    "\n",
    "outputpath = '/alldata/LChuang_data/myP/GeneBert/BGI-Gene_new/examples/CADD/baiducloud_clinvar/clinvar_20201003/Clinvar_nc_snv_pathogenic/GBERT-C2P/'\n",
    "\n",
    "xgboost_path = \"/alldata/LChuang_data/myP/GeneBert/BGI-Gene_new/examples/HGMD_logistic/XGboost_tri_addevo_feature_nostd/\""
   ]
  },
  {
   "cell_type": "code",
   "execution_count": 82,
   "metadata": {
    "ExecuteTime": {
     "end_time": "2021-03-05T09:25:16.573159Z",
     "start_time": "2021-03-05T09:25:14.653440Z"
    },
    "scrolled": true
   },
   "outputs": [
    {
     "name": "stdout",
     "output_type": "stream",
     "text": [
      "############ Part1: Getting chromatin feature from 919 file ############\n",
      "############ Part1: Getting DMatrix with 919 marks ############\n",
      "Chromatin feature df shape:  (354, 924)\n",
      "Chromatin feature df shape:  (354, 924)\n",
      "Chromatin evo feature df shape:  (354, 9)\n",
      "X.shape: (354, 919), X_diff.shape: (354, 919), y.shape: (354,)\n",
      "after standard mean and std is  6.989102483147122e-19 0.9999999999999999\n",
      "after standard mean and std is  8.736378103933903e-19 1.0\n",
      "(354, 1842)\n",
      "############ Part2: Getting Xgboost weight with shuffle8 in 919 marks ############\n",
      "############ Part3: Evaluating with 919 marks ############\n",
      "acc: 0.8870056497175142\n",
      "AUROC: 0.9324268249864344\n",
      "############ Part5: Saving Xgboost output in 919 marks ############\n",
      "Saving prediction file: \n",
      " /alldata/LChuang_data/myP/GeneBert/BGI-Gene_new/examples/CADD/baiducloud_clinvar/clinvar_20201003/Clinvar_nc_snv_pathogenic/GBERT-C2P/Clinvar_nc_snv_pathogenic_354_XGboost_shuffle8_919mark_Trible.predict\n",
      "mean_acc=0.8870056497175142, mean_AUROC=0.9324268249864344 \n",
      "############ Part1: Getting chromatin feature from 2002 file ############\n",
      "############ Part1: Getting DMatrix with 2002 marks ############\n",
      "Chromatin feature df shape:  (354, 2007)\n",
      "Chromatin feature df shape:  (354, 2007)\n",
      "Chromatin evo feature df shape:  (354, 9)\n",
      "X.shape: (354, 2002), X_diff.shape: (354, 2002), y.shape: (354,)\n",
      "after standard mean and std is  -4.912685344633461e-19 0.9999999999999999\n",
      "after standard mean and std is  -1.7419981196531916e-19 1.0\n",
      "(354, 4008)\n",
      "############ Part2: Getting Xgboost weight with shuffle8 in 2002 marks ############\n",
      "############ Part3: Evaluating with 2002 marks ############\n",
      "acc: 0.8785310734463276\n",
      "AUROC: 0.9386830093523574\n",
      "############ Part5: Saving Xgboost output in 2002 marks ############\n",
      "Saving prediction file: \n",
      " /alldata/LChuang_data/myP/GeneBert/BGI-Gene_new/examples/CADD/baiducloud_clinvar/clinvar_20201003/Clinvar_nc_snv_pathogenic/GBERT-C2P/Clinvar_nc_snv_pathogenic_354_XGboost_shuffle8_2002mark_Trible.predict\n",
      "mean_acc=0.8785310734463276, mean_AUROC=0.9386830093523574 \n",
      "############ Part1: Getting chromatin feature from 3540 file ############\n",
      "############ Part1: Getting DMatrix with 3540 marks ############\n",
      "Chromatin feature df shape:  (354, 3545)\n",
      "Chromatin feature df shape:  (354, 3545)\n",
      "Chromatin evo feature df shape:  (354, 9)\n",
      "X.shape: (354, 3540), X_diff.shape: (354, 3540), y.shape: (354,)\n",
      "after standard mean and std is  -5.825933328493592e-19 1.0\n",
      "after standard mean and std is  4.408431302096124e-19 1.0\n",
      "(354, 7084)\n",
      "############ Part2: Getting Xgboost weight with shuffle8 in 3540 marks ############\n",
      "############ Part3: Evaluating with 3540 marks ############\n",
      "acc: 0.8898305084745762\n",
      "AUROC: 0.9429921159309266\n",
      "############ Part5: Saving Xgboost output in 3540 marks ############\n",
      "Saving prediction file: \n",
      " /alldata/LChuang_data/myP/GeneBert/BGI-Gene_new/examples/CADD/baiducloud_clinvar/clinvar_20201003/Clinvar_nc_snv_pathogenic/GBERT-C2P/Clinvar_nc_snv_pathogenic_354_XGboost_shuffle8_3540mark_Trible.predict\n",
      "mean_acc=0.8898305084745762, mean_AUROC=0.9429921159309266 \n"
     ]
    }
   ],
   "source": [
    "\n",
    "mark_type_list = [919, 2002, 3540]\n",
    "#mark_type_list = [919]\n",
    "nth=32\n",
    "\n",
    "for mark_type in mark_type_list:\n",
    "\n",
    "    print('############ Part1: Getting chromatin feature from {} file ############'.format(mark_type))\n",
    "\n",
    "    # logfoldchange\n",
    "    CHROMATIN_FILE = CHROM_PATH + os.path.basename(VCF_PATH) + \\\n",
    "                     '_128bs_5gram_{}feature.out.logfoldchange.csv'.format(mark_type)\n",
    "    CHROMATIN_df = pd.read_csv(CHROMATIN_FILE)  # CHROMATIN_df.head()\n",
    "\n",
    "    # diff\n",
    "    CHROMATIN_FILE_diff = CHROM_PATH + os.path.basename(VCF_PATH) + \\\n",
    "                          '_128bs_5gram_{}feature.out.diff.csv'.format(mark_type)\n",
    "    CHROMATIN_diff_df = pd.read_csv(CHROMATIN_FILE_diff)  # CHROMATIN_diff_df.head()\n",
    "\n",
    "    # evoall\n",
    "    EVO_df = pd.read_csv(EVO_df_path)  # CHROMATIN_diff_df.head()\n",
    "\n",
    "    # vcf\n",
    "    acc_tem_list, AUROC_tem_list = [], []  # storage acc auroc\n",
    "    \n",
    "    #for ii in range(10):\n",
    "    for ii in [8]: # the beas weight\n",
    "\n",
    "        print('############ Part1: Getting DMatrix with {} marks ############'.format(mark_type))\n",
    "        DM_Xy_test, std_X_test, X_test, y_test, test_df_ori, test_diff_df_ori \\\n",
    "            = get_DMatrix_concat_useevo(VCF_PATH, CHROMATIN_df, CHROMATIN_diff_df, EVO_df)\n",
    "\n",
    "        print('############ Part2: Getting Xgboost weight with shuffle{} in {} marks ############'.format(ii, mark_type))\n",
    "        # Training\n",
    "        #print('Saving model: \\n', out_model)\n",
    "        bst_new = xgb.Booster({'nthread':nth}) #init model\n",
    "        weight_path = xgboost_path + \"1000G_HGMD_posstrand_8softwares_5_test_shuffle{}_XGboost_{}mark_Trible.model\".format(ii, mark_type)\n",
    "        bst_new.load_model(weight_path) # load data\n",
    "\n",
    "        \n",
    "        # Predicting\n",
    "        print('############ Part3: Evaluating with {} marks ############'.format(mark_type))\n",
    "        pred_test_raw = bst_new.predict(DM_Xy_test)\n",
    "        pred_test_acc = bst_new.predict(DM_Xy_test)\n",
    "        for i in range(len(pred_test_raw)):\n",
    "            if pred_test_acc[i] > 0.5:\n",
    "                pred_test_acc[i] = 1\n",
    "            else:\n",
    "                pred_test_acc[i] = 0\n",
    "\n",
    "        acc_tem = accuracy_score(DM_Xy_test.get_label(), pred_test_acc)\n",
    "        AUROC_tem = roc_auc_score(DM_Xy_test.get_label(), pred_test_raw)\n",
    "        print('acc:', acc_tem)\n",
    "        print('AUROC:', AUROC_tem)\n",
    "        acc_tem_list.append(acc_tem)\n",
    "        AUROC_tem_list.append(AUROC_tem)\n",
    "\n",
    "        # Saving\n",
    "        print('############ Part5: Saving Xgboost output in {} marks ############'.format(mark_type))\n",
    "        test_df = test_df_ori.iloc[:, :5]\n",
    "        test_df['value'] = pred_test_raw\n",
    "        basename = os.path.basename(VCF_PATH)\n",
    "        out = outputpath + basename.replace('.vcf','_XGboost_shuffle{}_{}mark_Trible.predict'.format(ii, mark_type))\n",
    "        test_df.to_csv(out, sep='\\t', index=None, header=None)\n",
    "        print('Saving prediction file: \\n', out)\n",
    "\n",
    "    print(\"mean_acc={}, mean_AUROC={} \".format(np.mean(acc_tem_list), np.mean(AUROC_tem_list)))\n"
   ]
  },
  {
   "cell_type": "code",
   "execution_count": null,
   "metadata": {
    "collapsed": true
   },
   "outputs": [],
   "source": []
  }
 ],
 "metadata": {
  "kernelspec": {
   "display_name": "Python [conda env:tf20_hhp]",
   "language": "python",
   "name": "conda-env-tf20_hhp-py"
  },
  "language_info": {
   "codemirror_mode": {
    "name": "ipython",
    "version": 3
   },
   "file_extension": ".py",
   "mimetype": "text/x-python",
   "name": "python",
   "nbconvert_exporter": "python",
   "pygments_lexer": "ipython3",
   "version": "3.6.9"
  },
  "toc": {
   "base_numbering": 1,
   "nav_menu": {},
   "number_sections": true,
   "sideBar": true,
   "skip_h1_title": false,
   "title_cell": "Table of Contents",
   "title_sidebar": "Contents",
   "toc_cell": false,
   "toc_position": {
    "height": "calc(100% - 180px)",
    "left": "10px",
    "top": "150px",
    "width": "307px"
   },
   "toc_section_display": true,
   "toc_window_display": true
  },
  "varInspector": {
   "cols": {
    "lenName": 16,
    "lenType": 16,
    "lenVar": 40
   },
   "kernels_config": {
    "python": {
     "delete_cmd_postfix": "",
     "delete_cmd_prefix": "del ",
     "library": "var_list.py",
     "varRefreshCmd": "print(var_dic_list())"
    },
    "r": {
     "delete_cmd_postfix": ") ",
     "delete_cmd_prefix": "rm(",
     "library": "var_list.r",
     "varRefreshCmd": "cat(var_dic_list()) "
    }
   },
   "types_to_exclude": [
    "module",
    "function",
    "builtin_function_or_method",
    "instance",
    "_Feature"
   ],
   "window_display": false
  }
 },
 "nbformat": 4,
 "nbformat_minor": 4
}
